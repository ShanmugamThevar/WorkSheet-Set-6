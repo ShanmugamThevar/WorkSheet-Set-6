{
 "cells": [
  {
   "cell_type": "markdown",
   "metadata": {},
   "source": [
    "# Statistics"
   ]
  },
  {
   "cell_type": "markdown",
   "metadata": {},
   "source": [
    "1. Which of the following can be considered as random variable?\n",
    "\n",
    "Ans. d) All of the mentioned"
   ]
  },
  {
   "cell_type": "markdown",
   "metadata": {},
   "source": [
    "2. Which of the following random variable that take on only a countable number of possibilities?\n",
    "\n",
    "Ans. a) Discrete"
   ]
  },
  {
   "cell_type": "markdown",
   "metadata": {},
   "source": [
    "3. Which of the following function is associated with a continuous random variable?\n",
    "\n",
    "Ans. a) pdf"
   ]
  },
  {
   "cell_type": "markdown",
   "metadata": {},
   "source": [
    "4. The expected value or _______ of a random variable is the center of its distribution.\n",
    "\n",
    "Ans. c) mean"
   ]
  },
  {
   "cell_type": "markdown",
   "metadata": {},
   "source": [
    "5. Which of the following of a random variable is not a measure of spread?\n",
    "\n",
    "Ans. c) empirical mean"
   ]
  },
  {
   "cell_type": "markdown",
   "metadata": {},
   "source": [
    "6. The _________ of the Chi-squared distribution is twice the degrees of freedom.\n",
    "\n",
    "Ans. a) variance"
   ]
  },
  {
   "cell_type": "markdown",
   "metadata": {},
   "source": [
    "7. The beta distribution is the default prior for parameters between ____________\n",
    "\n",
    "Ans. c) 0 and 1"
   ]
  },
  {
   "cell_type": "markdown",
   "metadata": {},
   "source": [
    "8. Which of the following tool is used for constructing confidence intervals and calculating standard errors for \n",
    "difficult statistics?\n",
    "\n",
    "Ans. b) bootstrap"
   ]
  },
  {
   "cell_type": "markdown",
   "metadata": {},
   "source": [
    "9. Data that summarize all observations in a category are called __________ data.\n",
    "\n",
    "Ans. b) summarized"
   ]
  },
  {
   "cell_type": "markdown",
   "metadata": {},
   "source": [
    "10. What is the difference between a boxplot and histogram?\n",
    "\n",
    "Ans. Histograms and box plots are both used to explore and present the data in an easy and understandable manner. Histograms are preferred to determine the underlying probability distribution of a data. Box plots on the other hand are more useful when comparing between several data sets. Box Plots are less detailed than histograms and take up less space."
   ]
  },
  {
   "cell_type": "markdown",
   "metadata": {},
   "source": [
    "11. How to select metrics?\n",
    "\n",
    "Ans. Confusion Matrix, Accuracy, Reccall, F1 Score, Precision, Root Mean Squared Error (RMSE) are few of the metrics."
   ]
  },
  {
   "cell_type": "markdown",
   "metadata": {},
   "source": [
    "12. How do you assess the statistical significance of an insight?\n",
    "\n",
    "Ans. Statistical significance can be accessed using hypothesis testing. Stating a null hypothesis whcih is usually the opposite of what we wish to test. We choose a statistical test and statistics used to reject null hypothesis and a critical region for the statistics to lie in that is extreme for the null hypothesis to be rejected/p-value. We calculate the test statistics frrom the data and check the critical region by common tests like Z test, T-test, chi-squared test, Anova and F-test."
   ]
  },
  {
   "cell_type": "markdown",
   "metadata": {},
   "source": [
    "13. Give examples of data that doesnot have a Gaussian distribution, nor log-normal\n",
    "\n",
    "Ans. "
   ]
  },
  {
   "cell_type": "markdown",
   "metadata": {},
   "source": [
    "14. Give an example where the median is a better measure than the mean.\n",
    "\n",
    "Ans. The mean and the median both can be used to describe where the “center” of a dataset is located. It’s best to use the mean when the distribution of the data values is symmetrical and there are no clear outliers. It’s best to use the median when the the distribution of data values is skewed or when there are clear outliers. The median also does a better job of capturing the central location of a distribution when there are outliers present in the data."
   ]
  },
  {
   "cell_type": "markdown",
   "metadata": {},
   "source": [
    "15. What is the Likelihood?\n",
    "\n",
    "Ans. The probability of a given sample being randomly drawn is regarded as a function of the parameters of the population. "
   ]
  },
  {
   "cell_type": "code",
   "execution_count": null,
   "metadata": {},
   "outputs": [],
   "source": []
  },
  {
   "cell_type": "code",
   "execution_count": null,
   "metadata": {},
   "outputs": [],
   "source": []
  },
  {
   "cell_type": "markdown",
   "metadata": {},
   "source": [
    "# Machine Learning"
   ]
  },
  {
   "cell_type": "markdown",
   "metadata": {},
   "source": [
    "1. In which of the following you can say that the model is overfitting?\n",
    "\n",
    "Ans. D) None of the above"
   ]
  },
  {
   "cell_type": "markdown",
   "metadata": {},
   "source": [
    "2. Which among the following is a disadvantage of decision trees?\n",
    " \n",
    "Ans. B) Decision trees are highly prone to overfitting."
   ]
  },
  {
   "cell_type": "markdown",
   "metadata": {},
   "source": [
    "3. Which of the following is an ensemble technique?\n",
    "\n",
    "Ans. C) Random Forest"
   ]
  },
  {
   "cell_type": "markdown",
   "metadata": {},
   "source": [
    "4. Suppose you are building a classification model for detection of a fatal disease where detection of \n",
    "the disease is most important. In this case which of the following metrics you would focus on?\n",
    "\n",
    "Ans. B) Sensitivity"
   ]
  },
  {
   "cell_type": "markdown",
   "metadata": {},
   "source": [
    "5. The value of AUC (Area under Curve) value for ROC curve of model A is 0.70 and of model B is 0.85. Which of these two models is doing better job in classification?\n",
    "\n",
    "Ans. A) Model A"
   ]
  },
  {
   "cell_type": "markdown",
   "metadata": {},
   "source": [
    "6. Which of the following are the regularization technique in Linear Regression?? \n",
    "\n",
    "Ans. A) Ridge and D) Lasso"
   ]
  },
  {
   "cell_type": "markdown",
   "metadata": {},
   "source": [
    "7. Which of the following is not an example of boosting technique?\n",
    "\n",
    "Ans. A) Adaboost and D) Xgboost."
   ]
  },
  {
   "cell_type": "markdown",
   "metadata": {},
   "source": [
    "8. Which of the techniques are used for regularization of Decision Trees? \n",
    "\n",
    "Ans. D) All of the above"
   ]
  },
  {
   "cell_type": "markdown",
   "metadata": {},
   "source": [
    "9. Which of the following statements is true regarding the Adaboost technique?\n",
    "\n",
    "Ans. D) None of the above"
   ]
  },
  {
   "cell_type": "markdown",
   "metadata": {},
   "source": [
    "10. Explain how does the adjusted R-squared penalize the presence of unnecessary predictors in the\n",
    "model?\n",
    "\n",
    "Ans. Adjusted R- sqaured penalizes the model by adding extra variables to the model."
   ]
  },
  {
   "cell_type": "markdown",
   "metadata": {},
   "source": [
    "11. Differentiate between Ridge and Lasso Regression.\n",
    "\n",
    "Ans. Ridge adds penalty term which is equal to square of the coefficient and Lasso adds penalty term to the cost function. \n",
    "\n",
    "Ridge is equal to the square of the magnitude of the coefficients and Lasso is the absolute sum of coefficients.\n",
    "\n",
    "The difference between both the techniques is that it tends to make coefficients to absolute zero as compared to Ridge which never sets the value of coefficient to absolute zero."
   ]
  },
  {
   "cell_type": "markdown",
   "metadata": {},
   "source": [
    "12. What is VIF? What is the suitable value of a VIF for a feature to be included in a regression \n",
    "modelling?\n",
    "\n",
    "Ans. Variance inflation factor (VIF) is used to detect the severity of multicollinearity in the ordinary least square (OLS) regression analysis. Multicollinearity inflates the variance and type II error. It makes the coefficient of a variable consistent but unreliable. VIF measures the number of inflated variances caused by multicollinearity."
   ]
  },
  {
   "cell_type": "markdown",
   "metadata": {},
   "source": [
    "13. Why do we need to scale the data before feeding it to the train the model?\n",
    "\n",
    "Ans. We scale down data before feeding it into the network in order to reduce the number of parameters. When the number of parameters are high, tends to increase the requirement of computation power. Scaling down data does decreases the detail and the scale size is purely dependent on the target of our model."
   ]
  },
  {
   "cell_type": "markdown",
   "metadata": {},
   "source": [
    "14. What are the different metrics which are used to check the goodness of fit in linear regression?\n",
    "\n",
    "Ans. Mean absolute error, Root mean squared error, Relative absolute error, and Relative squared error."
   ]
  },
  {
   "cell_type": "markdown",
   "metadata": {},
   "source": [
    "15. From the following confusion matrix calculate sensitivity, specificity, precision, recall and accuracy.\n",
    "\n",
    "Ans. Accuracy = 0.88 = 88%\n",
    "\n",
    "Recall = 0.827 = 83%\n",
    "\n",
    "Precision = 0.96 = 96%\n",
    "\n",
    "specificity = 0.952 = 95%\n",
    "\n",
    "sensitivity = 0.827 = 83%"
   ]
  },
  {
   "cell_type": "code",
   "execution_count": null,
   "metadata": {},
   "outputs": [],
   "source": []
  },
  {
   "cell_type": "code",
   "execution_count": null,
   "metadata": {},
   "outputs": [],
   "source": []
  },
  {
   "cell_type": "markdown",
   "metadata": {},
   "source": [
    "# SQL"
   ]
  },
  {
   "cell_type": "markdown",
   "metadata": {},
   "source": [
    "1. Which of the following are TCL commands?\n",
    "\n",
    "Ans. A. Commit, C. Rollback, and D. Savepoint"
   ]
  },
  {
   "cell_type": "markdown",
   "metadata": {},
   "source": [
    "2. Which of the following are DDL commands?\n",
    "\n",
    "Ans. A. Create, C. Drop, and D. Alter"
   ]
  },
  {
   "cell_type": "markdown",
   "metadata": {},
   "source": [
    "3. Which of the following is a legal expression in SQL? \n",
    "\n",
    "Ans. C. SELECT * FROM SALES WHEN PRICE = NULL;"
   ]
  },
  {
   "cell_type": "markdown",
   "metadata": {},
   "source": [
    "4. DCL provides commands to perform actions like\n",
    "\n",
    "Ans. C. Authorizing Access and other control over Database"
   ]
  },
  {
   "cell_type": "markdown",
   "metadata": {},
   "source": [
    "5. Which of the following should be enclosed in double quotes?\n",
    "\n",
    "Ans. B. Column Alias"
   ]
  },
  {
   "cell_type": "markdown",
   "metadata": {},
   "source": [
    "6. Which of the following command makes the updates performed by the transaction permanent in the database?\n",
    "\n",
    "Ans. C. TRUNCATE"
   ]
  },
  {
   "cell_type": "markdown",
   "metadata": {},
   "source": [
    "7. A subquery in an SQL Select statement is enclosed in:\n",
    "\n",
    "Ans. C. CAPITAL LETTERS."
   ]
  },
  {
   "cell_type": "markdown",
   "metadata": {},
   "source": [
    "8. The result of a SQL SELECT statement is a :-\n",
    "\n",
    "Ans. C. TABLE"
   ]
  },
  {
   "cell_type": "markdown",
   "metadata": {},
   "source": [
    "9. Which of the following do you need to consider when you make a table in a SQL?\n",
    "\n",
    "Ans. D. All of the mentioned"
   ]
  },
  {
   "cell_type": "markdown",
   "metadata": {},
   "source": [
    "10. If you don’t specify ASC and DESC after a SQL ORDER BY clause, the following is used by___?\n",
    "\n",
    "Ans. D. None of the mentioned"
   ]
  },
  {
   "cell_type": "markdown",
   "metadata": {},
   "source": [
    "11. What is denormalization?\n",
    "\n",
    "Ans. Denormalization is the process where data from multiple tables are combined into one table, so that data retrieval will be faster. It is used in OLAP system which emphasizes on making the search and analysis faster."
   ]
  },
  {
   "cell_type": "markdown",
   "metadata": {},
   "source": [
    "12. What is a database cursor?\n",
    "\n",
    "A database cursor is an object that enables traversal over the rows of a result set. It allows you to process individual row returned by a query."
   ]
  },
  {
   "cell_type": "markdown",
   "metadata": {},
   "source": [
    "13. What are the different types of the queries?\n",
    "\n",
    "Ans. Basic query, Complex query, and Sub-queries"
   ]
  },
  {
   "cell_type": "markdown",
   "metadata": {},
   "source": [
    "14. Define constraint?\n",
    "\n",
    "Ans. Constraints are the rules enforced on the data columns of a table. These are used to limit the type of data that can go into a table. This ensures the accuracy and reliability of the data in the database. Constraints could be either on a column level or a table level. The column level constraints are applied only to one column, whereas the table level constraints are applied to the whole table."
   ]
  },
  {
   "cell_type": "markdown",
   "metadata": {},
   "source": [
    "15. What is auto increment?\n",
    "\n",
    "Ans. Auto increment attribute when specified on a column with a numeric data types, generates numbers sequentially whenever a new row is added into the database. The Auto increment is commonly used to generate primary keys."
   ]
  },
  {
   "cell_type": "code",
   "execution_count": null,
   "metadata": {},
   "outputs": [],
   "source": []
  }
 ],
 "metadata": {
  "kernelspec": {
   "display_name": "Python 3",
   "language": "python",
   "name": "python3"
  },
  "language_info": {
   "codemirror_mode": {
    "name": "ipython",
    "version": 3
   },
   "file_extension": ".py",
   "mimetype": "text/x-python",
   "name": "python",
   "nbconvert_exporter": "python",
   "pygments_lexer": "ipython3",
   "version": "3.8.5"
  }
 },
 "nbformat": 4,
 "nbformat_minor": 4
}
